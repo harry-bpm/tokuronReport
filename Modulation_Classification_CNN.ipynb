{
  "nbformat": 4,
  "nbformat_minor": 0,
  "metadata": {
    "colab": {
      "name": "Modulation_Classification_CNN.ipynb",
      "provenance": [],
      "collapsed_sections": [],
      "toc_visible": true
    },
    "kernelspec": {
      "name": "python3",
      "display_name": "Python 3"
    },
    "accelerator": "GPU"
  },
  "cells": [
    {
      "cell_type": "markdown",
      "metadata": {
        "id": "7wvs2HBHNd9B",
        "colab_type": "text"
      },
      "source": [
        "深層学習特論レポート\n",
        "\n",
        "氏名: Muhammad Harry Bintang Pratama   \n",
        "学生番号: 20676127\n",
        "\n",
        "\n",
        "paper with codeの分類: Time-Series  \n",
        "論文のURL: https://arxiv.org/pdf/1602.04105v3.pdf  \n",
        "githubのURL: https://github.com/rowantahseen/Modulation-Classification  \n",
        "deep learning libraryの枠組み: tensorflow backend with keras\n"
      ]
    },
    {
      "cell_type": "markdown",
      "metadata": {
        "id": "5vRMp9ecSbc2",
        "colab_type": "text"
      },
      "source": [
        "In the referenced github repository, there are two model architectures, fisrt is Full Connected Neural Network and the second one is CNN (Convolutional Neural Network). This report only implements the CNN, since this architecture is also used in the referenced paper."
      ]
    },
    {
      "cell_type": "markdown",
      "metadata": {
        "id": "yF1FWc56SiMB",
        "colab_type": "text"
      },
      "source": [
        "# Preparing the Dataset\n",
        "\n",
        "The datasets that will be used for radio signal modulation recognition are available online from https://www.deepsig.ai/datasets. The referenced github repo use version RML2016.10b. The dataset that I used is this version: RadioML 2016.04C.  It is different with the dataset that was used in github reference. It contains smaller datapoints."
      ]
    },
    {
      "cell_type": "code",
      "metadata": {
        "id": "R6WnXwxOfFab",
        "colab_type": "code",
        "colab": {
          "base_uri": "https://localhost:8080/",
          "height": 70
        },
        "outputId": "f45d6bf9-62a7-421a-921d-9fc82b9985d4"
      },
      "source": [
        "from sklearn.preprocessing import LabelBinarizer as LB\n",
        "from sklearn.preprocessing import normalize \n",
        "from sklearn.metrics import confusion_matrix\n",
        "from sklearn.metrics import accuracy_score\n",
        "# --------------------\n",
        "from keras.layers.convolutional import Conv2D, ZeroPadding2D\n",
        "from keras.layers.core import Reshape, Flatten, Dropout\n",
        "from keras.callbacks import EarlyStopping\n",
        "from keras.models import Sequential\n",
        "from keras.models import load_model\n",
        "from keras.layers import Dense\n",
        "from keras import metrics\n",
        "# --------------------\n",
        "from pandas import DataFrame as df\n",
        "# --------------------\n",
        "import matplotlib.pyplot as plt\n",
        "import tensorflow as tf\n",
        "import numpy as np\n",
        "# --------------------\n",
        "import tarfile\n",
        "import pickle\n",
        "import random\n",
        "import keras\n",
        "import sys\n",
        "import gc\n",
        "\n",
        "\n",
        "# Found a problem in the original code, could not use it as it is. Must add several line of codes as shown below\n",
        "# Problem: AttributeError: module 'tensorflow_core._api.v2.config' has no attribute 'experimental_list_devices' when creating 'Sequential' model.\n",
        "# Solution : Make an injection to keras tensorflow backend until updates comes from keras team\n",
        "\n",
        "import keras.backend.tensorflow_backend as tfback\n",
        "print(\"tf.__version__ is\", tf.__version__)\n",
        "print(\"tf.keras.__version__ is:\", tf.keras.__version__)\n",
        "\n",
        "def _get_available_gpus():\n",
        "    \"\"\"Get a list of available gpu devices (formatted as strings).\n",
        "\n",
        "    # Returns\n",
        "        A list of available GPU devices.\n",
        "    \"\"\"\n",
        "    #global _LOCAL_DEVICES\n",
        "    if tfback._LOCAL_DEVICES is None:\n",
        "        devices = tf.config.list_logical_devices()\n",
        "        tfback._LOCAL_DEVICES = [x.name for x in devices]\n",
        "    return [x for x in tfback._LOCAL_DEVICES if 'device:gpu' in x.lower()]\n",
        "\n",
        "tfback._get_available_gpus = _get_available_gpus\n",
        "tfback._get_available_gpus()"
      ],
      "execution_count": 19,
      "outputs": [
        {
          "output_type": "stream",
          "text": [
            "tf.__version__ is 2.2.0\n",
            "tf.keras.__version__ is: 2.3.0-tf\n"
          ],
          "name": "stdout"
        },
        {
          "output_type": "execute_result",
          "data": {
            "text/plain": [
              "['/device:GPU:0']"
            ]
          },
          "metadata": {
            "tags": []
          },
          "execution_count": 19
        }
      ]
    },
    {
      "cell_type": "code",
      "metadata": {
        "id": "TpDj36HODC18",
        "colab_type": "code",
        "colab": {
          "base_uri": "https://localhost:8080/",
          "height": 212
        },
        "outputId": "5adf9de5-4298-4e56-f2d9-0fb419052c1d"
      },
      "source": [
        "# Download the dataset and extract it\n",
        "!wget http://opendata.deepsig.io/datasets/2016.04/2016.04C.multisnr.tar.bz2?__hstc=24938661.44667ce5ff5d5c9e72cdf3cb09da5eff.1593432995007.1593443292009.1595468326005.3&__hssc=24938661.1.1595468326005&__hsfp=3342595576\n",
        "!tar jxf /content/2016.04C.multisnr.tar.bz2?__hstc=24938661.44667ce5ff5d5c9e72cdf3cb09da5eff.1593432995007.1593443292009.1595468326005.3\n"
      ],
      "execution_count": 20,
      "outputs": [
        {
          "output_type": "stream",
          "text": [
            "--2020-07-23 22:07:17--  http://opendata.deepsig.io/datasets/2016.04/2016.04C.multisnr.tar.bz2?__hstc=24938661.44667ce5ff5d5c9e72cdf3cb09da5eff.1593432995007.1593443292009.1595468326005.3\n",
            "Resolving opendata.deepsig.io (opendata.deepsig.io)... 52.14.91.165\n",
            "Connecting to opendata.deepsig.io (opendata.deepsig.io)|52.14.91.165|:80... connected.\n",
            "HTTP request sent, awaiting response... 200 OK\n",
            "Length: 111453168 (106M) [application/x-bzip2]\n",
            "Saving to: ‘2016.04C.multisnr.tar.bz2?__hstc=24938661.44667ce5ff5d5c9e72cdf3cb09da5eff.1593432995007.1593443292009.1595468326005.3.1’\n",
            "\n",
            "2016.04C.multisnr.t 100%[===================>] 106.29M  9.20MB/s    in 18s     \n",
            "\n",
            "2020-07-23 22:07:35 (5.77 MB/s) - ‘2016.04C.multisnr.tar.bz2?__hstc=24938661.44667ce5ff5d5c9e72cdf3cb09da5eff.1593432995007.1593443292009.1595468326005.3.1’ saved [111453168/111453168]\n",
            "\n"
          ],
          "name": "stdout"
        }
      ]
    },
    {
      "cell_type": "code",
      "metadata": {
        "id": "TBLWephOf06F",
        "colab_type": "code",
        "colab": {}
      },
      "source": [
        "# Load the extracted dataset \n",
        "\n",
        "file = open('/content/2016.04C.multisnr.pkl','rb')\n",
        "Xd = pickle.load(file, encoding='latin')\n",
        "snrs,mods = map(lambda j: sorted(list(set(map(lambda x: x[j], Xd.keys())))), [1,0])\n",
        "X = []  \n",
        "lbl = []\n",
        "for mod in mods:\n",
        "    for snr in snrs:\n",
        "        X.append(Xd[(mod,snr)])\n",
        "        for i in range(Xd[(mod,snr)].shape[0]):  lbl.append((mod,snr))\n",
        "X = np.vstack(X)\n",
        "file.close()"
      ],
      "execution_count": 21,
      "outputs": []
    },
    {
      "cell_type": "code",
      "metadata": {
        "id": "zXBjbfinZqsa",
        "colab_type": "code",
        "colab": {}
      },
      "source": [
        "# Create features space: Raw Time Feature, First derivative in time, and integral in time\n",
        "# Then create a function to put all features together\n",
        "\n",
        "features = {}\n",
        "features['raw']        = X[:,0], X[:,1]\n",
        "features['derivative'] = normalize(np.gradient(X[:,0], axis = 1)), normalize(np.gradient(X[:,1], axis = 1))\n",
        "features['integral']   = normalize(np.cumsum(X[:,0], axis = 1)), normalize(np.cumsum(X[:,1], axis = 1))\n",
        "\n",
        "def extract_features(*arguments):\n",
        "    \n",
        "    desired = ()            \n",
        "    for arg in arguments:\n",
        "        desired += features[arg]\n",
        "    \n",
        "    return np.stack(desired, axis = 1)"
      ],
      "execution_count": 22,
      "outputs": []
    },
    {
      "cell_type": "markdown",
      "metadata": {
        "id": "_H6w7WM1ZrXz",
        "colab_type": "text"
      },
      "source": [
        "# Split the training and test data\n",
        "\n",
        "At this part, the dataset set will be splitted into training and test data. In the paper, there is no information derivatice or integral features. Choosing raw feature will use the dataset as it is. Then, the datapoints are randomly shuffled using np.random.choice. Next, split the dataset into 2 with the same size (50% for training data and 50% for test data). I did not now the reason, since this is also different with the referenced paper (60% for training data and 40% for test data). \n"
      ]
    },
    {
      "cell_type": "code",
      "metadata": {
        "id": "pZN2R4nwZ8dl",
        "colab_type": "code",
        "colab": {}
      },
      "source": [
        "# Choose the feature that want to be used\n",
        "\n",
        "data = extract_features('raw')\n",
        "labels = np.array(lbl)\n",
        "\n",
        "in_shape = data[0].shape\n",
        "out_shape = tuple([1]) + in_shape"
      ],
      "execution_count": 23,
      "outputs": []
    },
    {
      "cell_type": "code",
      "metadata": {
        "id": "mDcPW14LD9IT",
        "colab_type": "code",
        "colab": {
          "base_uri": "https://localhost:8080/",
          "height": 105
        },
        "outputId": "ed64cbe3-4e12-4da5-ed8f-e686f721f4d0"
      },
      "source": [
        "# Data shuffling & splitting\n",
        "\n",
        "np.random.seed(10)\n",
        "\n",
        "n_examples = labels.shape[0]\n",
        "print(\"Number of datapoints:\", n_examples)\n",
        "\n",
        "r = np.random.choice(range(n_examples), n_examples, replace = False)\n",
        "train_examples = r[:n_examples//2]\n",
        "test_examples =  r[n_examples//2:]\n",
        "\n",
        "X_train = data[train_examples]\n",
        "X_test = data[test_examples]\n",
        "\n",
        "y_train = LB().fit_transform(labels[train_examples][:,0])\n",
        "y_test = LB().fit_transform(labels[test_examples][:,0])\n",
        "\n",
        "snr_train = labels[train_examples][:,1].astype(int)\n",
        "snr_test = labels[test_examples][:,1].astype(int)\n",
        "\n",
        "# Check the dataset that will be used: \n",
        "\n",
        "\n",
        "print(\"Number of training data: \",X_train.shape)\n",
        "print(\"Number of test data: \",X_test.shape)\n",
        "print(\"Number of training labels: \",y_train.shape)\n",
        "print(\"Number of test labels: \",y_test.shape)\n"
      ],
      "execution_count": 24,
      "outputs": [
        {
          "output_type": "stream",
          "text": [
            "Number of datapoints: 162060\n",
            "Number of training data:  (81030, 2, 128)\n",
            "Number of test data:  (81030, 2, 128)\n",
            "Number of training labels:  (81030, 11)\n",
            "Number of test labels:  (81030, 11)\n"
          ],
          "name": "stdout"
        }
      ]
    },
    {
      "cell_type": "markdown",
      "metadata": {
        "id": "KAFSS-GV7ZIn",
        "colab_type": "text"
      },
      "source": [
        "# **Create Model**"
      ]
    },
    {
      "cell_type": "markdown",
      "metadata": {
        "colab_type": "text",
        "id": "BXCysJsf-QjP"
      },
      "source": [
        "This is the most important part, we need to construct a model first before we set it to learn. The model is costructed using sequential model. Since 1) there is no multiple input/output, 2) there is no layer sharing, and 3) non-linear topology is needed, we can go with this kind  of model. Here's a short explanation on each layer:  \n",
        "\n",
        "1. Input: Reshape the input from [N,2,128] to [N,1,2,128], where N is samples/ batch size. At a time, 1 matrix with size  2 x 128 will enter the network.  \n",
        "\n",
        "2. Conv/ReLu layers: There 2 layers that use convolution with ReLu as activation function. Both layers are preceded by zero padding with symmetric width pad (each row of input, at the initial and end are appended with 0). channels_first is used for ordering the dimensions in the inputs (batch_size, channels, height, width). The first Conv/ReLU layer has number of output filters 256 and filter size 1 x 3, while the second Conv/ReLU layer has number of output filters 80 and filter size 2 x 3. Both layers are ended with dropout for regularization.  \n",
        "\n",
        "3. Dense layers: The first dense layer, after the input is flattened, get its output by taking the dot product between input tensor and 256 kernels matrix, and then use ReLU. The second dense layer, get its output by taking the dot product between input tensor and 11 kernels matrix, and then softmax as activation function, since at this stage we want to classify what kind of signal that is being recognized. The output here is 11 classes, corresponding to 11 types of different signals in our dataset."
      ]
    },
    {
      "cell_type": "code",
      "metadata": {
        "colab_type": "code",
        "id": "sz_IkB44-QjW",
        "colab": {}
      },
      "source": [
        "# Build CNN model\n",
        "#  - Reshape [N,2,128] to [N,1,2,128] on input\n",
        "#  - Pass through 2 2DConv/ReLu layers\n",
        "#  - Pass through 2 Dense layers (ReLu and Softmax)\n",
        "#  - Perform categorical cross entropy optimization\n",
        "#  - dropout rate 0.5\n",
        "\n",
        "\n",
        "dr = 0.5\n",
        "model = Sequential()\n",
        "model.add(Reshape(out_shape, input_shape = in_shape))\n",
        "\n",
        "model.add(ZeroPadding2D((0, 2), data_format = 'channels_first'))\n",
        "model.add(Conv2D(256, (1, 3), padding = 'valid', activation = \"relu\", name=\"conv1\", kernel_initializer='glorot_uniform', data_format=\"channels_first\"))\n",
        "model.add(Dropout(dr))\n",
        "\n",
        "model.add(ZeroPadding2D((0,2), data_format = 'channels_first'))\n",
        "model.add(Conv2D(80, (2, 3), activation=\"relu\", name=\"conv3\", padding=\"valid\", kernel_initializer=\"glorot_uniform\", data_format=\"channels_first\"))\n",
        "model.add(Dropout(dr))\n",
        "\n",
        "model.add(Flatten())   \n",
        "model.add(Dense(256, activation=\"relu\", name=\"dense1\", kernel_initializer=\"he_normal\"))\n",
        "model.add(Dropout(dr))\n",
        "\n",
        "model.add(Dense(11, name=\"dense3\", kernel_initializer=\"he_normal\", activation = 'softmax'))\n",
        "model.add(Reshape([len(mods)]))\n",
        "\n",
        "\n"
      ],
      "execution_count": 25,
      "outputs": []
    },
    {
      "cell_type": "markdown",
      "metadata": {
        "id": "aXcYJa86VQc3",
        "colab_type": "text"
      },
      "source": [
        "# Training\n",
        "\n",
        "Before we set the model to train, first we need to configures the model. Here, 3 important parameters are explained. Since this is multi-class classification tasks, for the loss function categorical_crossentropy is used. 'adam' is used as optimizer. 'accuracy' metric is ususally used for classification tasks. This metric calculates how often predictions matches one-hot labels. Metric values are recorded at the end of each epoch on the training/evaluation dataset.\n",
        "\n",
        "A table that summarizes the network is printed. We can confirm the output shape of each layer type.\n",
        "\n",
        "\n",
        "\n"
      ]
    },
    {
      "cell_type": "code",
      "metadata": {
        "id": "3YaP-ApAUpM8",
        "colab_type": "code",
        "colab": {
          "base_uri": "https://localhost:8080/",
          "height": 585
        },
        "outputId": "d7ecb6ad-e09a-4e07-9184-c5a886c989b9"
      },
      "source": [
        "model.compile(loss='categorical_crossentropy', optimizer='adam', metrics = ['accuracy'])\n",
        "model.summary()"
      ],
      "execution_count": 26,
      "outputs": [
        {
          "output_type": "stream",
          "text": [
            "Model: \"sequential_2\"\n",
            "_________________________________________________________________\n",
            "Layer (type)                 Output Shape              Param #   \n",
            "=================================================================\n",
            "reshape_3 (Reshape)          (None, 1, 2, 128)         0         \n",
            "_________________________________________________________________\n",
            "zero_padding2d_3 (ZeroPaddin (None, 1, 2, 132)         0         \n",
            "_________________________________________________________________\n",
            "conv1 (Conv2D)               (None, 256, 2, 130)       1024      \n",
            "_________________________________________________________________\n",
            "dropout_4 (Dropout)          (None, 256, 2, 130)       0         \n",
            "_________________________________________________________________\n",
            "zero_padding2d_4 (ZeroPaddin (None, 256, 2, 134)       0         \n",
            "_________________________________________________________________\n",
            "conv3 (Conv2D)               (None, 80, 1, 132)        122960    \n",
            "_________________________________________________________________\n",
            "dropout_5 (Dropout)          (None, 80, 1, 132)        0         \n",
            "_________________________________________________________________\n",
            "flatten_2 (Flatten)          (None, 10560)             0         \n",
            "_________________________________________________________________\n",
            "dense1 (Dense)               (None, 256)               2703616   \n",
            "_________________________________________________________________\n",
            "dropout_6 (Dropout)          (None, 256)               0         \n",
            "_________________________________________________________________\n",
            "dense3 (Dense)               (None, 11)                2827      \n",
            "_________________________________________________________________\n",
            "reshape_4 (Reshape)          (None, 11)                0         \n",
            "=================================================================\n",
            "Total params: 2,830,427\n",
            "Trainable params: 2,830,427\n",
            "Non-trainable params: 0\n",
            "_________________________________________________________________\n"
          ],
          "name": "stdout"
        }
      ]
    },
    {
      "cell_type": "markdown",
      "metadata": {
        "id": "iMj7ads0bWvR",
        "colab_type": "text"
      },
      "source": [
        "Now we are ready to train the model with the dataset by calling fit method. The model will be trained with a fixed number of epochs and batch size. Here, the input data is X_train and the corresponding target data is Y_train.The validation_split, which is a fraction of the training data to be used as validation data is set to 0.05. The model will set apart this fraction of the training data, will not train on it, and will evaluate the loss and any model metrics on this data at the end of each epoch. Callbacks with EarlyStopping class that will stop training when a monitored metric has stopped improving is used. There is no monitored metric here, but with patience equals 15, if there is no improvement after 15 epochs the training will be stopped. The model weight will be restored from the epoch with the best value. \n",
        "\n",
        "Finally save the model. the saved model will includes the model architecture, the model weights, and the state of the optimizer.\n"
      ]
    },
    {
      "cell_type": "code",
      "metadata": {
        "id": "DVu5H1gOXY7H",
        "colab_type": "code",
        "colab": {
          "base_uri": "https://localhost:8080/",
          "height": 1000
        },
        "outputId": "bfa410c0-63da-4b5c-f67b-303a276d01af"
      },
      "source": [
        "model.fit(X_train, y_train, epochs = 80, batch_size = 1024, validation_split = 0.05, callbacks=[EarlyStopping(patience = 15, restore_best_weights = True)])"
      ],
      "execution_count": 27,
      "outputs": [
        {
          "output_type": "stream",
          "text": [
            "Train on 76978 samples, validate on 4052 samples\n",
            "Epoch 1/80\n",
            "76978/76978 [==============================] - 4s 58us/step - loss: 2.4372 - accuracy: 0.1655 - val_loss: 2.0823 - val_accuracy: 0.2769\n",
            "Epoch 2/80\n",
            "76978/76978 [==============================] - 4s 55us/step - loss: 1.8940 - accuracy: 0.3258 - val_loss: 1.6337 - val_accuracy: 0.4247\n",
            "Epoch 3/80\n",
            "76978/76978 [==============================] - 4s 55us/step - loss: 1.5765 - accuracy: 0.4159 - val_loss: 1.4002 - val_accuracy: 0.4721\n",
            "Epoch 4/80\n",
            "76978/76978 [==============================] - 4s 55us/step - loss: 1.4415 - accuracy: 0.4537 - val_loss: 1.3201 - val_accuracy: 0.5032\n",
            "Epoch 5/80\n",
            "76978/76978 [==============================] - 4s 55us/step - loss: 1.3780 - accuracy: 0.4749 - val_loss: 1.2729 - val_accuracy: 0.5220\n",
            "Epoch 6/80\n",
            "76978/76978 [==============================] - 4s 55us/step - loss: 1.3281 - accuracy: 0.4941 - val_loss: 1.2349 - val_accuracy: 0.5424\n",
            "Epoch 7/80\n",
            "76978/76978 [==============================] - 4s 55us/step - loss: 1.2894 - accuracy: 0.5085 - val_loss: 1.2020 - val_accuracy: 0.5486\n",
            "Epoch 8/80\n",
            "76978/76978 [==============================] - 4s 55us/step - loss: 1.2533 - accuracy: 0.5220 - val_loss: 1.1671 - val_accuracy: 0.5686\n",
            "Epoch 9/80\n",
            "76978/76978 [==============================] - 4s 55us/step - loss: 1.1942 - accuracy: 0.5472 - val_loss: 1.1288 - val_accuracy: 0.5691\n",
            "Epoch 10/80\n",
            "76978/76978 [==============================] - 4s 55us/step - loss: 1.1569 - accuracy: 0.5605 - val_loss: 1.1033 - val_accuracy: 0.5824\n",
            "Epoch 11/80\n",
            "76978/76978 [==============================] - 4s 55us/step - loss: 1.1298 - accuracy: 0.5696 - val_loss: 1.0733 - val_accuracy: 0.5955\n",
            "Epoch 12/80\n",
            "76978/76978 [==============================] - 4s 55us/step - loss: 1.1117 - accuracy: 0.5761 - val_loss: 1.0616 - val_accuracy: 0.5938\n",
            "Epoch 13/80\n",
            "76978/76978 [==============================] - 4s 56us/step - loss: 1.0912 - accuracy: 0.5829 - val_loss: 1.0410 - val_accuracy: 0.6096\n",
            "Epoch 14/80\n",
            "76978/76978 [==============================] - 4s 56us/step - loss: 1.0838 - accuracy: 0.5866 - val_loss: 1.0341 - val_accuracy: 0.6046\n",
            "Epoch 15/80\n",
            "76978/76978 [==============================] - 4s 56us/step - loss: 1.0696 - accuracy: 0.5908 - val_loss: 1.0163 - val_accuracy: 0.6175\n",
            "Epoch 16/80\n",
            "76978/76978 [==============================] - 4s 55us/step - loss: 1.0559 - accuracy: 0.5954 - val_loss: 1.0120 - val_accuracy: 0.6182\n",
            "Epoch 17/80\n",
            "76978/76978 [==============================] - 4s 56us/step - loss: 1.0498 - accuracy: 0.5978 - val_loss: 1.0007 - val_accuracy: 0.6167\n",
            "Epoch 18/80\n",
            "76978/76978 [==============================] - 4s 55us/step - loss: 1.0412 - accuracy: 0.6004 - val_loss: 1.0012 - val_accuracy: 0.6143\n",
            "Epoch 19/80\n",
            "76978/76978 [==============================] - 4s 55us/step - loss: 1.0323 - accuracy: 0.6054 - val_loss: 0.9960 - val_accuracy: 0.6234\n",
            "Epoch 20/80\n",
            "76978/76978 [==============================] - 4s 55us/step - loss: 1.0261 - accuracy: 0.6059 - val_loss: 0.9879 - val_accuracy: 0.6320\n",
            "Epoch 21/80\n",
            "76978/76978 [==============================] - 4s 55us/step - loss: 1.0193 - accuracy: 0.6094 - val_loss: 0.9806 - val_accuracy: 0.6283\n",
            "Epoch 22/80\n",
            "76978/76978 [==============================] - 4s 56us/step - loss: 1.0114 - accuracy: 0.6108 - val_loss: 0.9772 - val_accuracy: 0.6271\n",
            "Epoch 23/80\n",
            "76978/76978 [==============================] - 4s 55us/step - loss: 1.0065 - accuracy: 0.6149 - val_loss: 0.9733 - val_accuracy: 0.6269\n",
            "Epoch 24/80\n",
            "76978/76978 [==============================] - 4s 55us/step - loss: 1.0001 - accuracy: 0.6150 - val_loss: 0.9821 - val_accuracy: 0.6298\n",
            "Epoch 25/80\n",
            "76978/76978 [==============================] - 4s 55us/step - loss: 0.9878 - accuracy: 0.6218 - val_loss: 0.9673 - val_accuracy: 0.6310\n",
            "Epoch 26/80\n",
            "76978/76978 [==============================] - 4s 55us/step - loss: 0.9915 - accuracy: 0.6190 - val_loss: 0.9706 - val_accuracy: 0.6296\n",
            "Epoch 27/80\n",
            "76978/76978 [==============================] - 4s 55us/step - loss: 0.9810 - accuracy: 0.6230 - val_loss: 0.9697 - val_accuracy: 0.6283\n",
            "Epoch 28/80\n",
            "76978/76978 [==============================] - 4s 55us/step - loss: 0.9753 - accuracy: 0.6240 - val_loss: 0.9639 - val_accuracy: 0.6333\n",
            "Epoch 29/80\n",
            "76978/76978 [==============================] - 4s 55us/step - loss: 0.9692 - accuracy: 0.6278 - val_loss: 0.9680 - val_accuracy: 0.6227\n",
            "Epoch 30/80\n",
            "76978/76978 [==============================] - 4s 55us/step - loss: 0.9667 - accuracy: 0.6290 - val_loss: 0.9646 - val_accuracy: 0.6313\n",
            "Epoch 31/80\n",
            "76978/76978 [==============================] - 4s 55us/step - loss: 0.9628 - accuracy: 0.6289 - val_loss: 0.9562 - val_accuracy: 0.6367\n",
            "Epoch 32/80\n",
            "76978/76978 [==============================] - 4s 55us/step - loss: 0.9559 - accuracy: 0.6354 - val_loss: 0.9588 - val_accuracy: 0.6313\n",
            "Epoch 33/80\n",
            "76978/76978 [==============================] - 4s 55us/step - loss: 0.9494 - accuracy: 0.6361 - val_loss: 0.9493 - val_accuracy: 0.6394\n",
            "Epoch 34/80\n",
            "76978/76978 [==============================] - 4s 55us/step - loss: 0.9452 - accuracy: 0.6386 - val_loss: 0.9578 - val_accuracy: 0.6306\n",
            "Epoch 35/80\n",
            "76978/76978 [==============================] - 4s 55us/step - loss: 0.9440 - accuracy: 0.6359 - val_loss: 0.9463 - val_accuracy: 0.6350\n",
            "Epoch 36/80\n",
            "76978/76978 [==============================] - 4s 55us/step - loss: 0.9376 - accuracy: 0.6387 - val_loss: 0.9461 - val_accuracy: 0.6385\n",
            "Epoch 37/80\n",
            "76978/76978 [==============================] - 4s 55us/step - loss: 0.9338 - accuracy: 0.6412 - val_loss: 0.9427 - val_accuracy: 0.6362\n",
            "Epoch 38/80\n",
            "76978/76978 [==============================] - 4s 56us/step - loss: 0.9337 - accuracy: 0.6418 - val_loss: 0.9507 - val_accuracy: 0.6355\n",
            "Epoch 39/80\n",
            "76978/76978 [==============================] - 4s 55us/step - loss: 0.9256 - accuracy: 0.6434 - val_loss: 0.9471 - val_accuracy: 0.6402\n",
            "Epoch 40/80\n",
            "76978/76978 [==============================] - 4s 56us/step - loss: 0.9239 - accuracy: 0.6453 - val_loss: 0.9445 - val_accuracy: 0.6402\n",
            "Epoch 41/80\n",
            "76978/76978 [==============================] - 4s 55us/step - loss: 0.9188 - accuracy: 0.6468 - val_loss: 0.9411 - val_accuracy: 0.6424\n",
            "Epoch 42/80\n",
            "76978/76978 [==============================] - 4s 55us/step - loss: 0.9149 - accuracy: 0.6477 - val_loss: 0.9451 - val_accuracy: 0.6412\n",
            "Epoch 43/80\n",
            "76978/76978 [==============================] - 4s 55us/step - loss: 0.9127 - accuracy: 0.6487 - val_loss: 0.9357 - val_accuracy: 0.6483\n",
            "Epoch 44/80\n",
            "76978/76978 [==============================] - 4s 55us/step - loss: 0.9076 - accuracy: 0.6535 - val_loss: 0.9316 - val_accuracy: 0.6444\n",
            "Epoch 45/80\n",
            "76978/76978 [==============================] - 4s 55us/step - loss: 0.9081 - accuracy: 0.6527 - val_loss: 0.9353 - val_accuracy: 0.6422\n",
            "Epoch 46/80\n",
            "76978/76978 [==============================] - 4s 55us/step - loss: 0.8987 - accuracy: 0.6570 - val_loss: 0.9389 - val_accuracy: 0.6387\n",
            "Epoch 47/80\n",
            "76978/76978 [==============================] - 4s 55us/step - loss: 0.9005 - accuracy: 0.6541 - val_loss: 0.9307 - val_accuracy: 0.6417\n",
            "Epoch 48/80\n",
            "76978/76978 [==============================] - 4s 55us/step - loss: 0.8955 - accuracy: 0.6555 - val_loss: 0.9290 - val_accuracy: 0.6468\n",
            "Epoch 49/80\n",
            "76978/76978 [==============================] - 4s 55us/step - loss: 0.8908 - accuracy: 0.6577 - val_loss: 0.9374 - val_accuracy: 0.6392\n",
            "Epoch 50/80\n",
            "76978/76978 [==============================] - 4s 55us/step - loss: 0.8884 - accuracy: 0.6613 - val_loss: 0.9372 - val_accuracy: 0.6451\n",
            "Epoch 51/80\n",
            "76978/76978 [==============================] - 4s 55us/step - loss: 0.8833 - accuracy: 0.6617 - val_loss: 0.9297 - val_accuracy: 0.6500\n",
            "Epoch 52/80\n",
            "76978/76978 [==============================] - 4s 55us/step - loss: 0.8803 - accuracy: 0.6646 - val_loss: 0.9352 - val_accuracy: 0.6446\n",
            "Epoch 53/80\n",
            "76978/76978 [==============================] - 4s 55us/step - loss: 0.8787 - accuracy: 0.6624 - val_loss: 0.9325 - val_accuracy: 0.6461\n",
            "Epoch 54/80\n",
            "76978/76978 [==============================] - 4s 55us/step - loss: 0.8748 - accuracy: 0.6656 - val_loss: 0.9408 - val_accuracy: 0.6468\n",
            "Epoch 55/80\n",
            "76978/76978 [==============================] - 4s 55us/step - loss: 0.8736 - accuracy: 0.6661 - val_loss: 0.9276 - val_accuracy: 0.6488\n",
            "Epoch 56/80\n",
            "76978/76978 [==============================] - 4s 55us/step - loss: 0.8686 - accuracy: 0.6685 - val_loss: 0.9337 - val_accuracy: 0.6523\n",
            "Epoch 57/80\n",
            "76978/76978 [==============================] - 4s 55us/step - loss: 0.8667 - accuracy: 0.6690 - val_loss: 0.9215 - val_accuracy: 0.6542\n",
            "Epoch 58/80\n",
            "76978/76978 [==============================] - 4s 55us/step - loss: 0.8656 - accuracy: 0.6699 - val_loss: 0.9293 - val_accuracy: 0.6496\n",
            "Epoch 59/80\n",
            "76978/76978 [==============================] - 4s 55us/step - loss: 0.8625 - accuracy: 0.6719 - val_loss: 0.9278 - val_accuracy: 0.6483\n",
            "Epoch 60/80\n",
            "76978/76978 [==============================] - 4s 55us/step - loss: 0.8581 - accuracy: 0.6712 - val_loss: 0.9271 - val_accuracy: 0.6476\n",
            "Epoch 61/80\n",
            "76978/76978 [==============================] - 4s 55us/step - loss: 0.8545 - accuracy: 0.6735 - val_loss: 0.9280 - val_accuracy: 0.6459\n",
            "Epoch 62/80\n",
            "76978/76978 [==============================] - 4s 55us/step - loss: 0.8528 - accuracy: 0.6739 - val_loss: 0.9247 - val_accuracy: 0.6508\n",
            "Epoch 63/80\n",
            "76978/76978 [==============================] - 4s 55us/step - loss: 0.8506 - accuracy: 0.6780 - val_loss: 0.9243 - val_accuracy: 0.6486\n",
            "Epoch 64/80\n",
            "76978/76978 [==============================] - 4s 55us/step - loss: 0.8483 - accuracy: 0.6776 - val_loss: 0.9249 - val_accuracy: 0.6503\n",
            "Epoch 65/80\n",
            "76978/76978 [==============================] - 4s 55us/step - loss: 0.8414 - accuracy: 0.6790 - val_loss: 0.9247 - val_accuracy: 0.6530\n",
            "Epoch 66/80\n",
            "76978/76978 [==============================] - 4s 55us/step - loss: 0.8424 - accuracy: 0.6807 - val_loss: 0.9233 - val_accuracy: 0.6555\n",
            "Epoch 67/80\n",
            "76978/76978 [==============================] - 4s 55us/step - loss: 0.8385 - accuracy: 0.6807 - val_loss: 0.9194 - val_accuracy: 0.6567\n",
            "Epoch 68/80\n",
            "76978/76978 [==============================] - 4s 55us/step - loss: 0.8348 - accuracy: 0.6815 - val_loss: 0.9194 - val_accuracy: 0.6451\n",
            "Epoch 69/80\n",
            "76978/76978 [==============================] - 4s 55us/step - loss: 0.8320 - accuracy: 0.6835 - val_loss: 0.9288 - val_accuracy: 0.6468\n",
            "Epoch 70/80\n",
            "76978/76978 [==============================] - 4s 55us/step - loss: 0.8286 - accuracy: 0.6857 - val_loss: 0.9228 - val_accuracy: 0.6493\n",
            "Epoch 71/80\n",
            "76978/76978 [==============================] - 4s 55us/step - loss: 0.8271 - accuracy: 0.6867 - val_loss: 0.9238 - val_accuracy: 0.6508\n",
            "Epoch 72/80\n",
            "76978/76978 [==============================] - 4s 55us/step - loss: 0.8312 - accuracy: 0.6841 - val_loss: 0.9190 - val_accuracy: 0.6498\n",
            "Epoch 73/80\n",
            "76978/76978 [==============================] - 4s 55us/step - loss: 0.8216 - accuracy: 0.6884 - val_loss: 0.9195 - val_accuracy: 0.6478\n",
            "Epoch 74/80\n",
            "76978/76978 [==============================] - 4s 56us/step - loss: 0.8185 - accuracy: 0.6895 - val_loss: 0.9269 - val_accuracy: 0.6488\n",
            "Epoch 75/80\n",
            "76978/76978 [==============================] - 4s 55us/step - loss: 0.8186 - accuracy: 0.6899 - val_loss: 0.9234 - val_accuracy: 0.6520\n",
            "Epoch 76/80\n",
            "76978/76978 [==============================] - 4s 55us/step - loss: 0.8179 - accuracy: 0.6900 - val_loss: 0.9306 - val_accuracy: 0.6454\n",
            "Epoch 77/80\n",
            "76978/76978 [==============================] - 4s 55us/step - loss: 0.8143 - accuracy: 0.6925 - val_loss: 0.9178 - val_accuracy: 0.6493\n",
            "Epoch 78/80\n",
            "76978/76978 [==============================] - 4s 55us/step - loss: 0.8147 - accuracy: 0.6909 - val_loss: 0.9177 - val_accuracy: 0.6552\n",
            "Epoch 79/80\n",
            "76978/76978 [==============================] - 4s 55us/step - loss: 0.8097 - accuracy: 0.6925 - val_loss: 0.9186 - val_accuracy: 0.6535\n",
            "Epoch 80/80\n",
            "76978/76978 [==============================] - 4s 55us/step - loss: 0.8050 - accuracy: 0.6959 - val_loss: 0.9183 - val_accuracy: 0.6498\n"
          ],
          "name": "stdout"
        },
        {
          "output_type": "execute_result",
          "data": {
            "text/plain": [
              "<keras.callbacks.callbacks.History at 0x7f149c1dc978>"
            ]
          },
          "metadata": {
            "tags": []
          },
          "execution_count": 27
        }
      ]
    },
    {
      "cell_type": "code",
      "metadata": {
        "id": "qc_WNGwnXgOd",
        "colab_type": "code",
        "colab": {}
      },
      "source": [
        "model.save(\"cnn.h5\")"
      ],
      "execution_count": 28,
      "outputs": []
    },
    {
      "cell_type": "markdown",
      "metadata": {
        "id": "Wl5gc_1kdUBh",
        "colab_type": "text"
      },
      "source": [
        "# Evaluation"
      ]
    },
    {
      "cell_type": "markdown",
      "metadata": {
        "id": "WobF1--bdtt6",
        "colab_type": "text"
      },
      "source": [
        "Create 3 functions that will be used later.\n",
        "\n",
        "1. print_results: This function will print a table that shows the accuracy across different SNR (Signal-to-Noise Ratio). First, predicted_labels are calculated from output predictions for the given input samples, which is X_test in this case. Then, the predicted_labels are compared with the true_labels, and get their accuracy score for one SNR. Do the same things with different SNR.  \n",
        "\n",
        "2. plot_confusion_matrix: Confusion matrix can be used to evaluate the quality of the output of a classifier. The diagonal elements are part of datapoints for which the predicted_labels is equal to the true_labels, while off-diagonal elements are those that are mislabeled by the classifier. Higher number or more bold color at the diagonal elements mean the classifier works as intended.   \n",
        "\n",
        "3. plot_results: This is the same thing as print_results, but this function will plot as line instead of just print a table."
      ]
    },
    {
      "cell_type": "code",
      "metadata": {
        "id": "sjDxzjqIXxDP",
        "colab_type": "code",
        "colab": {}
      },
      "source": [
        "def print_results(predicted_labels, true_labels, snrs):\n",
        "  \n",
        "  sorted_snrs = np.sort(np.unique(snrs))\n",
        "  \n",
        "  x_axis = []\n",
        "  y_axis = []\n",
        "  for snr in sorted_snrs:\n",
        "    idx = np.where(snrs == snr)\n",
        "    #print('snr =', snr, '-->', accuracy_score(np.argmax(true_labels[idx], axis = 1), np.argmax(predicted_labels[idx], axis = 1)))\n",
        "    x_axis.append(snr)\n",
        "    y_axis.append(accuracy_score(np.argmax(true_labels[idx], axis = 1), np.argmax(predicted_labels[idx], axis = 1)))\n",
        "  \n",
        "  return df(data = np.array(y_axis).reshape(1, -1) * 100,  columns = sorted_snrs, index = ['accuracy']).round(2)"
      ],
      "execution_count": 29,
      "outputs": []
    },
    {
      "cell_type": "code",
      "metadata": {
        "id": "6_4d6fqwX2Jn",
        "colab_type": "code",
        "colab": {}
      },
      "source": [
        "def plot_confusion_matrix(y_true, y_pred, classes, cmap=plt.cm.Blues):\n",
        "  y_true, y_pred = np.argmax(y_true, axis = 1), np.argmax(y_pred, axis = 1)\n",
        "  cm = confusion_matrix(y_true, y_pred)\n",
        "  cm = cm.astype('float') / cm.sum(axis=1)[:, np.newaxis]\n",
        "  fig, ax = plt.subplots()\n",
        "  im = ax.imshow(cm, interpolation='nearest', cmap=cmap)\n",
        "  ax.figure.colorbar(im, ax=ax)\n",
        "  # We want to show all ticks...\n",
        "  ax.set(xticks=np.arange(cm.shape[1]),\n",
        "         yticks=np.arange(cm.shape[0]),\n",
        "         # ... and label them with the respective list entries\n",
        "         xticklabels=classes, yticklabels=classes,\n",
        "         title = 'Confusion Matrix',\n",
        "         ylabel = 'True label',\n",
        "         xlabel = 'Predicted label')\n",
        "\n",
        "  # Rotate the tick labels and set their alignment.\n",
        "  plt.setp(ax.get_xticklabels(), rotation=45, ha=\"right\",\n",
        "           rotation_mode=\"anchor\")"
      ],
      "execution_count": 30,
      "outputs": []
    },
    {
      "cell_type": "code",
      "metadata": {
        "colab_type": "code",
        "id": "q6LbIn88-Qjn",
        "colab": {}
      },
      "source": [
        "def plot_results(predicted_labels, true_labels, snrs):\n",
        "  \n",
        "  sorted_snrs = np.sort(np.unique(snrs))\n",
        "  \n",
        "  x_axis = []\n",
        "  y_axis = []\n",
        "  for snr in sorted_snrs:\n",
        "    idx = np.where(snrs == snr)\n",
        "    #print('snr =', snr, '-->', accuracy_score(np.argmax(true_labels[idx], axis = 1), np.argmax(predicted_labels[idx], axis = 1)))\n",
        "    x_axis.append(snr)\n",
        "    y_axis.append(accuracy_score(np.argmax(true_labels[idx], axis = 1), np.argmax(predicted_labels[idx], axis = 1)))\n",
        "  \n",
        "  plt.xlabel('SNR')\n",
        "  plt.ylabel('Accuracy')\n",
        "  plt.title('Classification Accuracy over different SNRs')\n",
        "  plt.plot(x_axis, np.array(y_axis) * 100, 'ro--')\n",
        "  plt.grid(True)\n"
      ],
      "execution_count": 31,
      "outputs": []
    },
    {
      "cell_type": "code",
      "metadata": {
        "id": "nOdDRANTQlnx",
        "colab_type": "code",
        "colab": {}
      },
      "source": [
        "cnn_model = keras.models.load_model('cnn.h5')"
      ],
      "execution_count": 32,
      "outputs": []
    },
    {
      "cell_type": "code",
      "metadata": {
        "id": "r1KfSvaPX6rg",
        "colab_type": "code",
        "colab": {}
      },
      "source": [
        "y_pred_cnn = model.predict(X_test)"
      ],
      "execution_count": 33,
      "outputs": []
    },
    {
      "cell_type": "code",
      "metadata": {
        "id": "YCQRGAEnX75x",
        "colab_type": "code",
        "colab": {
          "base_uri": "https://localhost:8080/",
          "height": 77
        },
        "outputId": "3d6d8570-5b94-4395-cdb9-eb6e79e83680"
      },
      "source": [
        "print_results(y_pred_cnn, y_test, snr_test)"
      ],
      "execution_count": 34,
      "outputs": [
        {
          "output_type": "execute_result",
          "data": {
            "text/html": [
              "<div>\n",
              "<style scoped>\n",
              "    .dataframe tbody tr th:only-of-type {\n",
              "        vertical-align: middle;\n",
              "    }\n",
              "\n",
              "    .dataframe tbody tr th {\n",
              "        vertical-align: top;\n",
              "    }\n",
              "\n",
              "    .dataframe thead th {\n",
              "        text-align: right;\n",
              "    }\n",
              "</style>\n",
              "<table border=\"1\" class=\"dataframe\">\n",
              "  <thead>\n",
              "    <tr style=\"text-align: right;\">\n",
              "      <th></th>\n",
              "      <th>-20</th>\n",
              "      <th>-18</th>\n",
              "      <th>-16</th>\n",
              "      <th>-14</th>\n",
              "      <th>-12</th>\n",
              "      <th>-10</th>\n",
              "      <th>-8</th>\n",
              "      <th>-6</th>\n",
              "      <th>-4</th>\n",
              "      <th>-2</th>\n",
              "      <th>0</th>\n",
              "      <th>2</th>\n",
              "      <th>4</th>\n",
              "      <th>6</th>\n",
              "      <th>8</th>\n",
              "      <th>10</th>\n",
              "      <th>12</th>\n",
              "      <th>14</th>\n",
              "      <th>16</th>\n",
              "      <th>18</th>\n",
              "    </tr>\n",
              "  </thead>\n",
              "  <tbody>\n",
              "    <tr>\n",
              "      <th>accuracy</th>\n",
              "      <td>15.25</td>\n",
              "      <td>15.24</td>\n",
              "      <td>15.01</td>\n",
              "      <td>17.55</td>\n",
              "      <td>19.62</td>\n",
              "      <td>26.95</td>\n",
              "      <td>47.16</td>\n",
              "      <td>62.97</td>\n",
              "      <td>74.56</td>\n",
              "      <td>88.92</td>\n",
              "      <td>90.31</td>\n",
              "      <td>91.59</td>\n",
              "      <td>91.56</td>\n",
              "      <td>95.63</td>\n",
              "      <td>88.4</td>\n",
              "      <td>91.52</td>\n",
              "      <td>96.22</td>\n",
              "      <td>90.32</td>\n",
              "      <td>92.84</td>\n",
              "      <td>92.97</td>\n",
              "    </tr>\n",
              "  </tbody>\n",
              "</table>\n",
              "</div>"
            ],
            "text/plain": [
              "            -20    -18    -16    -14    -12  ...     10     12     14     16     18\n",
              "accuracy  15.25  15.24  15.01  17.55  19.62  ...  91.52  96.22  90.32  92.84  92.97\n",
              "\n",
              "[1 rows x 20 columns]"
            ]
          },
          "metadata": {
            "tags": []
          },
          "execution_count": 34
        }
      ]
    },
    {
      "cell_type": "code",
      "metadata": {
        "id": "63LWQaBCX9tw",
        "colab_type": "code",
        "colab": {
          "base_uri": "https://localhost:8080/",
          "height": 321
        },
        "outputId": "4f853bf3-7c50-497c-f61d-660061585505"
      },
      "source": [
        "plot_confusion_matrix(y_test, y_pred_cnn, mods)"
      ],
      "execution_count": 35,
      "outputs": [
        {
          "output_type": "display_data",
          "data": {
            "image/png": "[encoded data removed]",
            "text/plain": [
              "<Figure size 432x288 with 2 Axes>"
            ]
          },
          "metadata": {
            "tags": [],
            "needs_background": "light"
          }
        }
      ]
    },
    {
      "cell_type": "code",
      "metadata": {
        "id": "A7YIgqBmhL3G",
        "colab_type": "code",
        "colab": {
          "base_uri": "https://localhost:8080/",
          "height": 294
        },
        "outputId": "f5387cdf-cba1-4931-f4ee-6cb04ff2570c"
      },
      "source": [
        "plot_results(y_pred_cnn, y_test, snr_test)"
      ],
      "execution_count": 36,
      "outputs": [
        {
          "output_type": "display_data",
          "data": {
            "image/png": "[encoded data removed]",
            "text/plain": [
              "<Figure size 432x288 with 1 Axes>"
            ]
          },
          "metadata": {
            "tags": [],
            "needs_background": "light"
          }
        }
      ]
    }
  ]
}